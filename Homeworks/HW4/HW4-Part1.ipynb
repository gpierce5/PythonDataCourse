{
 "cells": [
  {
   "cell_type": "markdown",
   "metadata": {},
   "source": [
    "# HW4 Part 1 - Review of Python Classes\n",
    "\n",
    "April 21, 2020\n",
    "\n",
    "The following is meant to be a brief review of classes in Python. If you feel comfortable with building and manipulating classes in Python, feel free to skim this part"
   ]
  },
  {
   "cell_type": "code",
   "execution_count": 1,
   "metadata": {},
   "outputs": [],
   "source": [
    "import numpy as np\n",
    "import matplotlib.pyplot as plt\n",
    "import pandas as pd"
   ]
  },
  {
   "cell_type": "markdown",
   "metadata": {},
   "source": [
    "## 1a) Create a class \"`Dog`\" with an `__init__` function that takes in the variable `name`"
   ]
  },
  {
   "cell_type": "code",
   "execution_count": 2,
   "metadata": {},
   "outputs": [],
   "source": [
    "class Dog:\n",
    "\n",
    "    def __init__(self, name):\n",
    "        # assign 'name' to self here as a data attribute\n",
    "        self.name = name"
   ]
  },
  {
   "cell_type": "code",
   "execution_count": 4,
   "metadata": {},
   "outputs": [],
   "source": [
    "mydog = Dog('Jojo')"
   ]
  },
  {
   "cell_type": "code",
   "execution_count": 5,
   "metadata": {},
   "outputs": [
    {
     "data": {
      "text/plain": [
       "'Jojo'"
      ]
     },
     "execution_count": 5,
     "metadata": {},
     "output_type": "execute_result"
    }
   ],
   "source": [
    "mydog.name"
   ]
  },
  {
   "cell_type": "markdown",
   "metadata": {},
   "source": [
    "# 1b) Add a method to this class `add_trick` that takes in a variable `trick`\n",
    "Keep in mind that a Dog might learn many tricks - you might keep track of the tricks it learns in a list"
   ]
  },
  {
   "cell_type": "code",
   "execution_count": 17,
   "metadata": {},
   "outputs": [],
   "source": [
    "class Dog:\n",
    "\n",
    "    def __init__(self, name): \n",
    "        self.name = name\n",
    "        self.trick = []\n",
    "        \n",
    "    def add_trick(self, trick): # this is a method attribute\n",
    "        self.trick = self.trick + [trick]"
   ]
  },
  {
   "cell_type": "code",
   "execution_count": 18,
   "metadata": {},
   "outputs": [
    {
     "data": {
      "text/plain": [
       "['roll over', 'play dead', 'flippy flip']"
      ]
     },
     "execution_count": 18,
     "metadata": {},
     "output_type": "execute_result"
    }
   ],
   "source": [
    "# test your code\n",
    "mydog = Dog('Jojo')\n",
    "mydog.add_trick('roll over')\n",
    "mydog.add_trick('play dead')\n",
    "mydog.add_trick('flippy flip')\n",
    "\n",
    "# print the tricks here\n",
    "mydog.trick### complete here"
   ]
  },
  {
   "cell_type": "markdown",
   "metadata": {},
   "source": [
    "## 1c) Modify the class so that it keeps track of the dog's age, gender and species\n",
    "Would these be better as a data attributes or as a method attributes?"
   ]
  },
  {
   "cell_type": "code",
   "execution_count": 23,
   "metadata": {},
   "outputs": [],
   "source": [
    "# add as data attributes? but could they be optional? leaving mandatory for now\n",
    "class Dog:\n",
    "\n",
    "    def __init__(self, name, age, gender, species): \n",
    "        self.name = name\n",
    "        self.trick = []\n",
    "        self.age = int(age)\n",
    "        self.gender = gender\n",
    "        self.species = species\n",
    "        \n",
    "    def add_trick(self, trick): # this is a method attribute\n",
    "        self.trick = self.trick + [trick]"
   ]
  },
  {
   "cell_type": "markdown",
   "metadata": {},
   "source": [
    "## 1d) Create 3 dogs with various characteristics, and assign them different tricks"
   ]
  },
  {
   "cell_type": "code",
   "execution_count": 22,
   "metadata": {},
   "outputs": [],
   "source": [
    "dog1 = Dog(name = 'Howard', age = 5, gender = 'male', species = 'doggus')\n",
    "dog2 = Dog(name = 'Fran', age = 2, gender = 'female', species = 'doggus')\n",
    "dog3 = Dog(name = 'Sam', age = 7, gender = 'nonbinary', species = 'doggus')"
   ]
  },
  {
   "cell_type": "markdown",
   "metadata": {},
   "source": [
    "## 1e) Create a method/function `print_summary` for the Dog class that prints all the relevant data and tricks"
   ]
  },
  {
   "cell_type": "code",
   "execution_count": 33,
   "metadata": {},
   "outputs": [],
   "source": [
    "class Dog:\n",
    "\n",
    "    def __init__(self, name, age, gender, species): \n",
    "        self.name = name\n",
    "        self.trick = []\n",
    "        self.age = int(age)\n",
    "        self.gender = gender\n",
    "        self.species = species\n",
    "        \n",
    "    def add_trick(self, trick): # this is a method attribute\n",
    "        self.trick = self.trick + [trick]\n",
    "        \n",
    "    def print_summary(self):\n",
    "        print('----------------')\n",
    "        print('Dog: {}'.format(self.name))\n",
    "        print('age: {}'.format(self.age))\n",
    "        print('gender: {}'.format(self.gender))\n",
    "        print('species: {}'.format(self.species))\n",
    "        if self.trick != []:\n",
    "            print('{} knows these tricks: {}'.format(self.name, self.tricks))\n",
    "        print('----------------')"
   ]
  },
  {
   "cell_type": "code",
   "execution_count": 34,
   "metadata": {},
   "outputs": [
    {
     "name": "stdout",
     "output_type": "stream",
     "text": [
      "----------------\n",
      "Dog: Howard\n",
      "age: 5\n",
      "gender: male\n",
      "species: doggus\n",
      "----------------\n",
      "----------------\n",
      "Dog: Fran\n",
      "age: 2\n",
      "gender: female\n",
      "species: doggus\n",
      "----------------\n",
      "----------------\n",
      "Dog: Sam\n",
      "age: 7\n",
      "gender: nonbinary\n",
      "species: doggus\n",
      "----------------\n"
     ]
    }
   ],
   "source": [
    "# create 3 dogs again with your new/modified class\n",
    "dogs = [None]*3\n",
    "dogs[0] = Dog(name = 'Howard', age = 5, gender = 'male', species = 'doggus')\n",
    "dogs[1] = Dog(name = 'Fran', age = 2, gender = 'female', species = 'doggus')\n",
    "dogs[2] = Dog(name = 'Sam', age = 7, gender = 'nonbinary', species = 'doggus')\n",
    "\n",
    "for d in dogs:\n",
    "    d.print_summary()"
   ]
  },
  {
   "cell_type": "markdown",
   "metadata": {},
   "source": [
    "## 1f) Finally, create a function/method that returns a pandas dataframe of the dog's name, age, gender species and tricks"
   ]
  },
  {
   "cell_type": "markdown",
   "metadata": {},
   "source": [
    "This code should run. What do you notice about having multiple tricks?"
   ]
  },
  {
   "cell_type": "code",
   "execution_count": 49,
   "metadata": {},
   "outputs": [],
   "source": [
    "class Dog:\n",
    "\n",
    "    def __init__(self, name, age, gender, species): \n",
    "        self.name = name\n",
    "        self.trick = []\n",
    "        self.age = int(age)\n",
    "        self.gender = gender\n",
    "        self.species = species\n",
    "        \n",
    "    def add_trick(self, trick): # this is a method attribute\n",
    "        self.trick = self.trick + [trick]\n",
    "        \n",
    "    def print_summary(self):\n",
    "        print('----------------')\n",
    "        print('Dog: {}'.format(self.name))\n",
    "        print('age: {}'.format(self.age))\n",
    "        print('gender: {}'.format(self.gender))\n",
    "        print('species: {}'.format(self.species))\n",
    "        if self.trick != []:\n",
    "            print('{} knows these tricks: {}'.format(self.name, self.tricks))\n",
    "        print('----------------')\n",
    "        \n",
    "    #don't love this solution, doesn't work properly if the dog doesn't know any tricks\n",
    "    def return_df(self):\n",
    "        dog_dict = {\n",
    "            'name': self.name,\n",
    "            'age': self.age,\n",
    "            'gender': self.gender,\n",
    "            'species': self.species,\n",
    "            'tricks': self.trick,\n",
    "        }\n",
    "        df = pd.DataFrame(dog_dict)\n",
    "        return df"
   ]
  },
  {
   "cell_type": "code",
   "execution_count": 50,
   "metadata": {},
   "outputs": [
    {
     "data": {
      "text/html": [
       "<div>\n",
       "<style scoped>\n",
       "    .dataframe tbody tr th:only-of-type {\n",
       "        vertical-align: middle;\n",
       "    }\n",
       "\n",
       "    .dataframe tbody tr th {\n",
       "        vertical-align: top;\n",
       "    }\n",
       "\n",
       "    .dataframe thead th {\n",
       "        text-align: right;\n",
       "    }\n",
       "</style>\n",
       "<table border=\"1\" class=\"dataframe\">\n",
       "  <thead>\n",
       "    <tr style=\"text-align: right;\">\n",
       "      <th></th>\n",
       "      <th>name</th>\n",
       "      <th>age</th>\n",
       "      <th>gender</th>\n",
       "      <th>species</th>\n",
       "      <th>tricks</th>\n",
       "    </tr>\n",
       "  </thead>\n",
       "  <tbody>\n",
       "    <tr>\n",
       "      <th>0</th>\n",
       "      <td>Jojo</td>\n",
       "      <td>12</td>\n",
       "      <td>M</td>\n",
       "      <td>collie</td>\n",
       "      <td>roll over</td>\n",
       "    </tr>\n",
       "    <tr>\n",
       "      <th>1</th>\n",
       "      <td>Jojo</td>\n",
       "      <td>12</td>\n",
       "      <td>M</td>\n",
       "      <td>collie</td>\n",
       "      <td>flippy flip</td>\n",
       "    </tr>\n",
       "  </tbody>\n",
       "</table>\n",
       "</div>"
      ],
      "text/plain": [
       "   name  age gender species       tricks\n",
       "0  Jojo   12      M  collie    roll over\n",
       "1  Jojo   12      M  collie  flippy flip"
      ]
     },
     "execution_count": 50,
     "metadata": {},
     "output_type": "execute_result"
    }
   ],
   "source": [
    "jojo = Dog(name='Jojo',age=12,gender='M',species='collie')\n",
    "\n",
    "jojo.add_trick('roll over')\n",
    "jojo.add_trick('flippy flip')\n",
    "\n",
    "\n",
    "df = jojo.return_df()\n",
    "\n",
    "df.head()"
   ]
  },
  {
   "cell_type": "code",
   "execution_count": null,
   "metadata": {},
   "outputs": [],
   "source": []
  }
 ],
 "metadata": {
  "kernelspec": {
   "display_name": "Python 3",
   "language": "python",
   "name": "python3"
  },
  "language_info": {
   "codemirror_mode": {
    "name": "ipython",
    "version": 3
   },
   "file_extension": ".py",
   "mimetype": "text/x-python",
   "name": "python",
   "nbconvert_exporter": "python",
   "pygments_lexer": "ipython3",
   "version": "3.7.6"
  }
 },
 "nbformat": 4,
 "nbformat_minor": 2
}
